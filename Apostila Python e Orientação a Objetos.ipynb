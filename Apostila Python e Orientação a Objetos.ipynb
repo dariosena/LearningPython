{
 "cells": [
  {
   "cell_type": "code",
   "execution_count": 1,
   "metadata": {},
   "outputs": [
    {
     "name": "stdout",
     "output_type": "stream",
     "text": [
      "Minha primeira aplicação Python!\n"
     ]
    }
   ],
   "source": [
    "print('Minha primeira aplicação Python!')"
   ]
  },
  {
   "cell_type": "code",
   "execution_count": 2,
   "metadata": {},
   "outputs": [
    {
     "name": "stdout",
     "output_type": "stream",
     "text": [
      "Emanuel Sena!\n"
     ]
    }
   ],
   "source": [
    "print('Emanuel Sena!')"
   ]
  },
  {
   "cell_type": "code",
   "execution_count": 5,
   "metadata": {},
   "outputs": [
    {
     "name": "stdout",
     "output_type": "stream",
     "text": [
      "Emanuel\n",
      "Sena\n"
     ]
    }
   ],
   "source": [
    "print('Emanuel')\n",
    "print('Sena')"
   ]
  },
  {
   "cell_type": "code",
   "execution_count": 6,
   "metadata": {},
   "outputs": [
    {
     "name": "stdout",
     "output_type": "stream",
     "text": [
      "Emanuel\n",
      "Sena\n"
     ]
    }
   ],
   "source": [
    "print('Emanuel\\nSena')"
   ]
  },
  {
   "cell_type": "code",
   "execution_count": 7,
   "metadata": {},
   "outputs": [],
   "source": [
    "messagem = 'oi, python'"
   ]
  },
  {
   "cell_type": "code",
   "execution_count": 8,
   "metadata": {},
   "outputs": [],
   "source": [
    "numero = 5"
   ]
  },
  {
   "cell_type": "code",
   "execution_count": 9,
   "metadata": {},
   "outputs": [],
   "source": [
    "pi = 3.14"
   ]
  },
  {
   "cell_type": "code",
   "execution_count": 10,
   "metadata": {},
   "outputs": [
    {
     "data": {
      "text/plain": [
       "('oi, python', 5, 3.14)"
      ]
     },
     "execution_count": 10,
     "metadata": {},
     "output_type": "execute_result"
    }
   ],
   "source": [
    "messagem, numero, pi"
   ]
  },
  {
   "cell_type": "code",
   "execution_count": 11,
   "metadata": {},
   "outputs": [
    {
     "data": {
      "text/plain": [
       "str"
      ]
     },
     "execution_count": 11,
     "metadata": {},
     "output_type": "execute_result"
    }
   ],
   "source": [
    "type(messagem)"
   ]
  },
  {
   "cell_type": "code",
   "execution_count": 12,
   "metadata": {},
   "outputs": [
    {
     "data": {
      "text/plain": [
       "int"
      ]
     },
     "execution_count": 12,
     "metadata": {},
     "output_type": "execute_result"
    }
   ],
   "source": [
    "type(numero)"
   ]
  },
  {
   "cell_type": "code",
   "execution_count": 13,
   "metadata": {},
   "outputs": [
    {
     "data": {
      "text/plain": [
       "float"
      ]
     },
     "execution_count": 13,
     "metadata": {},
     "output_type": "execute_result"
    }
   ],
   "source": [
    "type(pi)"
   ]
  },
  {
   "cell_type": "code",
   "execution_count": 14,
   "metadata": {},
   "outputs": [
    {
     "data": {
      "text/plain": [
       "'oiPython'"
      ]
     },
     "execution_count": 14,
     "metadata": {},
     "output_type": "execute_result"
    }
   ],
   "source": [
    "texto1 = 'oi'\n",
    "texto2 = 'Python'\n",
    "texto1 + texto2"
   ]
  },
  {
   "cell_type": "code",
   "execution_count": 15,
   "metadata": {},
   "outputs": [
    {
     "data": {
      "text/plain": [
       "'oioioi'"
      ]
     },
     "execution_count": 15,
     "metadata": {},
     "output_type": "execute_result"
    }
   ],
   "source": [
    "texto1 * 3"
   ]
  },
  {
   "cell_type": "code",
   "execution_count": 16,
   "metadata": {},
   "outputs": [
    {
     "data": {
      "text/plain": [
       "'OI'"
      ]
     },
     "execution_count": 16,
     "metadata": {},
     "output_type": "execute_result"
    }
   ],
   "source": [
    "texto1.upper()"
   ]
  },
  {
   "cell_type": "code",
   "execution_count": 17,
   "metadata": {},
   "outputs": [
    {
     "data": {
      "text/plain": [
       "'Python'"
      ]
     },
     "execution_count": 17,
     "metadata": {},
     "output_type": "execute_result"
    }
   ],
   "source": [
    "texto = 'python'\n",
    "texto.capitalize()"
   ]
  },
  {
   "cell_type": "code",
   "execution_count": 18,
   "metadata": {},
   "outputs": [
    {
     "name": "stdout",
     "output_type": "stream",
     "text": [
      "oi python\n"
     ]
    }
   ],
   "source": [
    "entrada = input()"
   ]
  },
  {
   "cell_type": "code",
   "execution_count": 19,
   "metadata": {},
   "outputs": [
    {
     "name": "stdout",
     "output_type": "stream",
     "text": [
      "oi python\n"
     ]
    }
   ],
   "source": [
    "print(entrada)"
   ]
  },
  {
   "cell_type": "code",
   "execution_count": 22,
   "metadata": {},
   "outputs": [
    {
     "name": "stdout",
     "output_type": "stream",
     "text": [
      "Digite seu nome: Emanuel\n",
      "Digite sua idade: 30\n",
      "Seu nome é Emanuel e sua idade é 30\n"
     ]
    }
   ],
   "source": [
    "nome = input('Digite seu nome: ')\n",
    "idade = input('Digite sua idade: ')\n",
    "print('Seu nome é {} e sua idade é {}.'.format(nome, idade))"
   ]
  },
  {
   "cell_type": "code",
   "execution_count": 23,
   "metadata": {},
   "outputs": [],
   "source": [
    "x = [1,2,3]\n",
    "y = [1,2,3]"
   ]
  },
  {
   "cell_type": "code",
   "execution_count": 24,
   "metadata": {},
   "outputs": [
    {
     "data": {
      "text/plain": [
       "True"
      ]
     },
     "execution_count": 24,
     "metadata": {},
     "output_type": "execute_result"
    }
   ],
   "source": [
    "x == y"
   ]
  },
  {
   "cell_type": "code",
   "execution_count": 25,
   "metadata": {},
   "outputs": [
    {
     "data": {
      "text/plain": [
       "False"
      ]
     },
     "execution_count": 25,
     "metadata": {},
     "output_type": "execute_result"
    }
   ],
   "source": [
    "x is y"
   ]
  },
  {
   "cell_type": "code",
   "execution_count": 30,
   "metadata": {},
   "outputs": [
    {
     "name": "stdout",
     "output_type": "stream",
     "text": [
      "Digite um número: 42\n",
      "Você acertou!\n"
     ]
    }
   ],
   "source": [
    "numero = 42\n",
    "chute = input('Digite um número: ')\n",
    "\n",
    "if int(chute) == numero:\n",
    "    print('Você acertou!')\n",
    "else:\n",
    "    print('Você errou!')"
   ]
  },
  {
   "cell_type": "code",
   "execution_count": 35,
   "metadata": {},
   "outputs": [
    {
     "name": "stdout",
     "output_type": "stream",
     "text": [
      "************************\n",
      "*  Jogo de Advinhação  *\n",
      "************************\n",
      "Digite o seu número: 42\n",
      "Você Acertou!\n"
     ]
    }
   ],
   "source": [
    "# Exercícios - Jogo da adivinhação\n",
    "\n",
    "print('************************')\n",
    "print('*  Jogo de Advinhação  *')\n",
    "print('************************')\n",
    "\n",
    "numero_secreto = 42\n",
    "\n",
    "chute = int(input('Digite o seu número: '))\n",
    "\n",
    "if numero_secreto == chute:\n",
    "    print('Você Acertou!')\n",
    "elif numero_secreto < chute:\n",
    "    print('Você Errou! O seu chute foi maior que o número secreto!')\n",
    "elif numero_secreto > chute:\n",
    "    print('Você Errou! O seu chute foi menor que o número secreto!')"
   ]
  },
  {
   "cell_type": "code",
   "execution_count": 40,
   "metadata": {},
   "outputs": [
    {
     "name": "stdout",
     "output_type": "stream",
     "text": [
      "************************\n",
      "*  Jogo de Advinhação  *\n",
      "************************\n",
      "\n",
      "Tentativa 1 de 3.\n",
      "Digite o seu número: 12\n",
      "Você digitou:  12\n",
      "Você Errou! O seu chute foi menor que o número secreto!\n",
      "\n",
      "Tentativa 2 de 3.\n",
      "Digite o seu número: 44\n",
      "Você digitou:  44\n",
      "Você Errou! O seu chute foi maior que o número secreto!\n",
      "\n",
      "Tentativa 3 de 3.\n",
      "Digite o seu número: 42\n",
      "Você digitou:  42\n",
      "Você Acertou!\n",
      "\n",
      "Fim do Jogo!\n"
     ]
    }
   ],
   "source": [
    "# Exercícios - Jogo com while\n",
    "\n",
    "print('************************')\n",
    "print('*  Jogo de Advinhação  *')\n",
    "print('************************')\n",
    "\n",
    "numero_secreto = 42\n",
    "total_de_tentativas = 3\n",
    "rodada = 1\n",
    "\n",
    "while (rodada <= total_de_tentativas):\n",
    "    print('')\n",
    "    print('Tentativa {} de {}.'.format(rodada, total_de_tentativas))\n",
    "    chute = int(input('Digite o seu número: '))\n",
    "    print('Você digitou: ', chute)\n",
    "    \n",
    "    acertou = chute == numero_secreto\n",
    "    maior = chute > numero_secreto\n",
    "    menor = chute < numero_secreto\n",
    "    \n",
    "    if (acertou):\n",
    "        print('Você Acertou!')\n",
    "        break\n",
    "    elif (maior):\n",
    "        print('Você Errou! O seu chute foi maior que o número secreto!')\n",
    "    elif (menor):\n",
    "        print('Você Errou! O seu chute foi menor que o número secreto!')\n",
    "    \n",
    "    rodada = rodada + 1\n",
    "\n",
    "print('')\n",
    "print('Fim do Jogo!')"
   ]
  },
  {
   "cell_type": "code",
   "execution_count": 42,
   "metadata": {},
   "outputs": [
    {
     "name": "stdout",
     "output_type": "stream",
     "text": [
      "1\n",
      "2\n",
      "3\n",
      "4\n"
     ]
    }
   ],
   "source": [
    "for rodada in range(1,5):\n",
    "    print(rodada)"
   ]
  },
  {
   "cell_type": "code",
   "execution_count": 43,
   "metadata": {},
   "outputs": [
    {
     "name": "stdout",
     "output_type": "stream",
     "text": [
      "1\n",
      "3\n",
      "5\n",
      "7\n",
      "9\n"
     ]
    }
   ],
   "source": [
    "for rodada in range(1,10,2):\n",
    "    print(rodada)"
   ]
  },
  {
   "cell_type": "code",
   "execution_count": 44,
   "metadata": {},
   "outputs": [
    {
     "name": "stdout",
     "output_type": "stream",
     "text": [
      "1\n",
      "2\n",
      "3\n",
      "4\n",
      "5\n"
     ]
    }
   ],
   "source": [
    "for rodada in [1,2,3,4,5]:\n",
    "    print(rodada)"
   ]
  },
  {
   "cell_type": "code",
   "execution_count": 50,
   "metadata": {},
   "outputs": [
    {
     "name": "stdout",
     "output_type": "stream",
     "text": [
      "************************\n",
      "*  Jogo de Advinhação  *\n",
      "************************\n",
      "\n",
      "Escolha o nível: 1 (fácil), 2 (médio), ou 3 (difícil)!\n",
      "Digite o nível: 3\n",
      "\n",
      "\n",
      "Tentativa 1 de 5.\n",
      "Digite o seu número: 1\n",
      "Você digitou:  1\n",
      "Você Errou! O seu chute foi menor que o número secreto!\n",
      "\n",
      "Tentativa 2 de 5.\n",
      "Digite o seu número: 2\n",
      "Você digitou:  2\n",
      "Você Errou! O seu chute foi menor que o número secreto!\n",
      "\n",
      "Tentativa 3 de 5.\n",
      "Digite o seu número: 3\n",
      "Você digitou:  3\n",
      "Você Errou! O seu chute foi menor que o número secreto!\n",
      "\n",
      "Tentativa 4 de 5.\n",
      "Digite o seu número: 4\n",
      "Você digitou:  4\n",
      "Você Errou! O seu chute foi menor que o número secreto!\n",
      "\n",
      "Tentativa 5 de 5.\n",
      "Digite o seu número: 5\n",
      "Você digitou:  5\n",
      "Você Errou! O seu chute foi menor que o número secreto!\n",
      "\n",
      "Fim do Jogo!\n"
     ]
    }
   ],
   "source": [
    "# Exercícios - Utilizando o for no jogo\n",
    "\n",
    "print('************************')\n",
    "print('*  Jogo de Advinhação  *')\n",
    "print('************************')\n",
    "\n",
    "numero_secreto = 42\n",
    "total_de_tentativas = 0\n",
    "\n",
    "print('')\n",
    "print('Escolha o nível: 1 (fácil), 2 (médio), ou 3 (difícil)!')\n",
    "nivel = int(input('Digite o nível: '))\n",
    "print('')\n",
    "\n",
    "if (nivel == 1):\n",
    "    total_de_tentativas = 20\n",
    "elif (nivel == 2):\n",
    "    total_de_tentativas = 10\n",
    "elif (nivel == 3):\n",
    "    total_de_tentativas = 5\n",
    "    \n",
    "for rodada in range(1, total_de_tentativas + 1):\n",
    "    print('')\n",
    "    print('Tentativa {} de {}.'.format(rodada, total_de_tentativas))\n",
    "    chute = int(input('Digite o seu número: '))\n",
    "    print('Você digitou: ', chute)\n",
    "    \n",
    "    acertou = chute == numero_secreto\n",
    "    maior = chute > numero_secreto\n",
    "    menor = chute < numero_secreto\n",
    "    \n",
    "    if (acertou):\n",
    "        print('Você Acertou!')\n",
    "        break\n",
    "    elif (maior):\n",
    "        print('Você Errou! O seu chute foi maior que o número secreto!')\n",
    "    elif (menor):\n",
    "        print('Você Errou! O seu chute foi menor que o número secreto!')\n",
    "\n",
    "print('')\n",
    "print('Fim do Jogo!')"
   ]
  },
  {
   "cell_type": "code",
   "execution_count": 3,
   "metadata": {},
   "outputs": [
    {
     "name": "stdout",
     "output_type": "stream",
     "text": [
      "************************************\n",
      "***  Bem Vindo ao Jogo da Forca  ***\n",
      "************************************\n",
      "['_', '_', '_', '_', '_', '_']\n",
      "\n",
      "Qual letra? a\n",
      "['_', 'a', '_', 'a', '_', 'a']\n",
      "\n",
      "Qual letra? b\n",
      "['b', 'a', '_', 'a', '_', 'a']\n",
      "\n",
      "Qual letra? n\n",
      "['b', 'a', 'n', 'a', 'n', 'a']\n",
      "\n",
      "Você ganhou!!\n",
      "\n",
      "Fim do Jogo!\n"
     ]
    }
   ],
   "source": [
    "print('************************************')\n",
    "print('***  Bem Vindo ao Jogo da Forca  ***')\n",
    "print('************************************')\n",
    "\n",
    "palavra_secreta = 'banana'\n",
    "letras_acertadas = ['_', '_', '_', '_', '_', '_']\n",
    "\n",
    "acertou = False\n",
    "enforcou = False\n",
    "erros = 0\n",
    "\n",
    "print(letras_acertadas)\n",
    "\n",
    "while (not acertou and not enforcou):\n",
    "    chute = input('\\nQual letra? ')\n",
    "    \n",
    "    if (chute in palavra_secreta):\n",
    "        posicao = 0\n",
    "        for letra in palavra_secreta:\n",
    "            if (chute.upper() == letra.upper()):\n",
    "                letras_acertadas[posicao] = letra\n",
    "            posicao += 1\n",
    "    else:\n",
    "        erros += 1\n",
    "        \n",
    "    acertou = '_' not in letras_acertadas\n",
    "    enforcou = erros == 6\n",
    "        \n",
    "    print(letras_acertadas)\n",
    "\n",
    "print()\n",
    "\n",
    "if (acertou):\n",
    "    print('Você ganhou!!')\n",
    "else:\n",
    "    print('Você perdeu!!')\n",
    "\n",
    "print()\n",
    "print('Fim do Jogo!')"
   ]
  },
  {
   "cell_type": "code",
   "execution_count": null,
   "metadata": {},
   "outputs": [],
   "source": []
  }
 ],
 "metadata": {
  "kernelspec": {
   "display_name": "Python 3",
   "language": "python",
   "name": "python3"
  },
  "language_info": {
   "codemirror_mode": {
    "name": "ipython",
    "version": 3
   },
   "file_extension": ".py",
   "mimetype": "text/x-python",
   "name": "python",
   "nbconvert_exporter": "python",
   "pygments_lexer": "ipython3",
   "version": "3.7.3"
  }
 },
 "nbformat": 4,
 "nbformat_minor": 2
}
