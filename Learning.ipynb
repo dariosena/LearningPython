{
 "cells": [
  {
   "cell_type": "markdown",
   "metadata": {},
   "source": [
    "# Learning Python"
   ]
  },
  {
   "cell_type": "code",
   "execution_count": 19,
   "metadata": {},
   "outputs": [],
   "source": [
    "# Let's create some code for fun\n",
    "# Character, Status classes\n",
    "\n",
    "from sys import getsizeof"
   ]
  },
  {
   "cell_type": "code",
   "execution_count": 8,
   "metadata": {},
   "outputs": [],
   "source": [
    "class Character:\n",
    "    \n",
    "    __slots__ = ['_name', '_level', '_profession']\n",
    "    \n",
    "    def __init__(self, name, level, profession):\n",
    "        self._name = name\n",
    "        self._level = level\n",
    "        self._profession = profession\n",
    "        \n",
    "    @property\n",
    "    def level(self):\n",
    "        return self._level\n",
    "    \n",
    "    @level.setter\n",
    "    def level(self, level):\n",
    "        if level >= 0:\n",
    "            self._level = level\n",
    "        else:\n",
    "            print('Level cannot be negative.')\n",
    "    \n",
    "    @property\n",
    "    def name(self):\n",
    "        return self._name\n",
    "    \n",
    "    @name.setter\n",
    "    def name(self, name):\n",
    "        self._name = name\n",
    "    \n",
    "    @property\n",
    "    def profession(self):\n",
    "        return self._profession\n",
    "    \n",
    "    @profession.setter\n",
    "    def profession(self, profession):\n",
    "        self.profession = profession\n"
   ]
  },
  {
   "cell_type": "code",
   "execution_count": 14,
   "metadata": {},
   "outputs": [],
   "source": [
    "cha1 = Character('Character 01', 10, 'Magician')\n",
    "cha2 = Character('Character 02', 11, 'Magician')"
   ]
  },
  {
   "cell_type": "code",
   "execution_count": 20,
   "metadata": {},
   "outputs": [],
   "source": [
    "class CharacterWithoutSlots:\n",
    "    \n",
    "    def __init__(self, name, level, profession):\n",
    "        self._name = name\n",
    "        self._level = level\n",
    "        self._profession = profession\n",
    "        \n",
    "    @property\n",
    "    def level(self):\n",
    "        return self._level\n",
    "    \n",
    "    @level.setter\n",
    "    def level(self, level):\n",
    "        if level >= 0:\n",
    "            self._level = level\n",
    "        else:\n",
    "            print('Level cannot be negative.')\n",
    "    \n",
    "    @property\n",
    "    def name(self):\n",
    "        return self._name\n",
    "    \n",
    "    @name.setter\n",
    "    def name(self, name):\n",
    "        self._name = name\n",
    "    \n",
    "    @property\n",
    "    def profession(self):\n",
    "        return self._profession\n",
    "    \n",
    "    @profession.setter\n",
    "    def profession(self, profession):\n",
    "        self.profession = profession\n"
   ]
  },
  {
   "cell_type": "code",
   "execution_count": 21,
   "metadata": {},
   "outputs": [
    {
     "data": {
      "text/plain": [
       "(64, 56)"
      ]
     },
     "execution_count": 21,
     "metadata": {},
     "output_type": "execute_result"
    }
   ],
   "source": [
    "cha1 = Character('Character 01', 10, 'Magician')\n",
    "cha2 = CharacterWithoutSlots('Character 01', 10, 'Magician')\n",
    "\n",
    "getsizeof(cha1), getsizeof(cha2)"
   ]
  },
  {
   "cell_type": "code",
   "execution_count": 32,
   "metadata": {},
   "outputs": [],
   "source": [
    "class Example:\n",
    "    def __getattr__(self, attr):\n",
    "        return attr.upper()\n",
    "    \n",
    "    def __getattribute__(self, attr):\n",
    "        __dict__ = super(Example, self).__getattribute__('__dict__')\n",
    "        \n",
    "        if attr in __dict__:\n",
    "            return super(Example, self).__getattribute__(attr)\n",
    "        \n",
    "        return attr.upper()\n",
    "\n",
    "        \n",
    "d = Example()\n",
    "d.value = 'Python'"
   ]
  },
  {
   "cell_type": "code",
   "execution_count": 33,
   "metadata": {},
   "outputs": [
    {
     "data": {
      "text/plain": [
       "'NAO_EXISTE'"
      ]
     },
     "execution_count": 33,
     "metadata": {},
     "output_type": "execute_result"
    }
   ],
   "source": [
    "d.nao_existe"
   ]
  },
  {
   "cell_type": "code",
   "execution_count": 34,
   "metadata": {},
   "outputs": [
    {
     "data": {
      "text/plain": [
       "'Python'"
      ]
     },
     "execution_count": 34,
     "metadata": {},
     "output_type": "execute_result"
    }
   ],
   "source": [
    "d.value"
   ]
  },
  {
   "cell_type": "code",
   "execution_count": null,
   "metadata": {},
   "outputs": [],
   "source": []
  }
 ],
 "metadata": {
  "kernelspec": {
   "display_name": "Python 3",
   "language": "python",
   "name": "python3"
  },
  "language_info": {
   "codemirror_mode": {
    "name": "ipython",
    "version": 3
   },
   "file_extension": ".py",
   "mimetype": "text/x-python",
   "name": "python",
   "nbconvert_exporter": "python",
   "pygments_lexer": "ipython3",
   "version": "3.7.4"
  }
 },
 "nbformat": 4,
 "nbformat_minor": 2
}
