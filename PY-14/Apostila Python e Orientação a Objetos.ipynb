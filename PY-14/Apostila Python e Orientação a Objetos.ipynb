{
 "cells": [
  {
   "cell_type": "code",
   "execution_count": 1,
   "metadata": {},
   "outputs": [
    {
     "name": "stdout",
     "output_type": "stream",
     "text": [
      "Minha primeira aplicação Python!\n"
     ]
    }
   ],
   "source": [
    "print('Minha primeira aplicação Python!')"
   ]
  },
  {
   "cell_type": "code",
   "execution_count": 2,
   "metadata": {},
   "outputs": [
    {
     "name": "stdout",
     "output_type": "stream",
     "text": [
      "Emanuel Sena!\n"
     ]
    }
   ],
   "source": [
    "print('Emanuel Sena!')"
   ]
  },
  {
   "cell_type": "code",
   "execution_count": 5,
   "metadata": {},
   "outputs": [
    {
     "name": "stdout",
     "output_type": "stream",
     "text": [
      "Emanuel\n",
      "Sena\n"
     ]
    }
   ],
   "source": [
    "print('Emanuel')\n",
    "print('Sena')"
   ]
  },
  {
   "cell_type": "code",
   "execution_count": 6,
   "metadata": {},
   "outputs": [
    {
     "name": "stdout",
     "output_type": "stream",
     "text": [
      "Emanuel\n",
      "Sena\n"
     ]
    }
   ],
   "source": [
    "print('Emanuel\\nSena')"
   ]
  },
  {
   "cell_type": "code",
   "execution_count": 7,
   "metadata": {},
   "outputs": [],
   "source": [
    "messagem = 'oi, python'"
   ]
  },
  {
   "cell_type": "code",
   "execution_count": 8,
   "metadata": {},
   "outputs": [],
   "source": [
    "numero = 5"
   ]
  },
  {
   "cell_type": "code",
   "execution_count": 9,
   "metadata": {},
   "outputs": [],
   "source": [
    "pi = 3.14"
   ]
  },
  {
   "cell_type": "code",
   "execution_count": 10,
   "metadata": {},
   "outputs": [
    {
     "data": {
      "text/plain": [
       "('oi, python', 5, 3.14)"
      ]
     },
     "execution_count": 10,
     "metadata": {},
     "output_type": "execute_result"
    }
   ],
   "source": [
    "messagem, numero, pi"
   ]
  },
  {
   "cell_type": "code",
   "execution_count": 11,
   "metadata": {},
   "outputs": [
    {
     "data": {
      "text/plain": [
       "str"
      ]
     },
     "execution_count": 11,
     "metadata": {},
     "output_type": "execute_result"
    }
   ],
   "source": [
    "type(messagem)"
   ]
  },
  {
   "cell_type": "code",
   "execution_count": 12,
   "metadata": {},
   "outputs": [
    {
     "data": {
      "text/plain": [
       "int"
      ]
     },
     "execution_count": 12,
     "metadata": {},
     "output_type": "execute_result"
    }
   ],
   "source": [
    "type(numero)"
   ]
  },
  {
   "cell_type": "code",
   "execution_count": 13,
   "metadata": {},
   "outputs": [
    {
     "data": {
      "text/plain": [
       "float"
      ]
     },
     "execution_count": 13,
     "metadata": {},
     "output_type": "execute_result"
    }
   ],
   "source": [
    "type(pi)"
   ]
  },
  {
   "cell_type": "code",
   "execution_count": 14,
   "metadata": {},
   "outputs": [
    {
     "data": {
      "text/plain": [
       "'oiPython'"
      ]
     },
     "execution_count": 14,
     "metadata": {},
     "output_type": "execute_result"
    }
   ],
   "source": [
    "texto1 = 'oi'\n",
    "texto2 = 'Python'\n",
    "texto1 + texto2"
   ]
  },
  {
   "cell_type": "code",
   "execution_count": 15,
   "metadata": {},
   "outputs": [
    {
     "data": {
      "text/plain": [
       "'oioioi'"
      ]
     },
     "execution_count": 15,
     "metadata": {},
     "output_type": "execute_result"
    }
   ],
   "source": [
    "texto1 * 3"
   ]
  },
  {
   "cell_type": "code",
   "execution_count": 16,
   "metadata": {},
   "outputs": [
    {
     "data": {
      "text/plain": [
       "'OI'"
      ]
     },
     "execution_count": 16,
     "metadata": {},
     "output_type": "execute_result"
    }
   ],
   "source": [
    "texto1.upper()"
   ]
  },
  {
   "cell_type": "code",
   "execution_count": 17,
   "metadata": {},
   "outputs": [
    {
     "data": {
      "text/plain": [
       "'Python'"
      ]
     },
     "execution_count": 17,
     "metadata": {},
     "output_type": "execute_result"
    }
   ],
   "source": [
    "texto = 'python'\n",
    "texto.capitalize()"
   ]
  },
  {
   "cell_type": "code",
   "execution_count": 18,
   "metadata": {},
   "outputs": [
    {
     "name": "stdout",
     "output_type": "stream",
     "text": [
      "oi python\n"
     ]
    }
   ],
   "source": [
    "entrada = input()"
   ]
  },
  {
   "cell_type": "code",
   "execution_count": 19,
   "metadata": {},
   "outputs": [
    {
     "name": "stdout",
     "output_type": "stream",
     "text": [
      "oi python\n"
     ]
    }
   ],
   "source": [
    "print(entrada)"
   ]
  },
  {
   "cell_type": "code",
   "execution_count": 22,
   "metadata": {},
   "outputs": [
    {
     "name": "stdout",
     "output_type": "stream",
     "text": [
      "Digite seu nome: Emanuel\n",
      "Digite sua idade: 30\n",
      "Seu nome é Emanuel e sua idade é 30\n"
     ]
    }
   ],
   "source": [
    "nome = input('Digite seu nome: ')\n",
    "idade = input('Digite sua idade: ')\n",
    "print('Seu nome é {} e sua idade é {}.'.format(nome, idade))"
   ]
  },
  {
   "cell_type": "code",
   "execution_count": 23,
   "metadata": {},
   "outputs": [],
   "source": [
    "x = [1,2,3]\n",
    "y = [1,2,3]"
   ]
  },
  {
   "cell_type": "code",
   "execution_count": 24,
   "metadata": {},
   "outputs": [
    {
     "data": {
      "text/plain": [
       "True"
      ]
     },
     "execution_count": 24,
     "metadata": {},
     "output_type": "execute_result"
    }
   ],
   "source": [
    "x == y"
   ]
  },
  {
   "cell_type": "code",
   "execution_count": 25,
   "metadata": {},
   "outputs": [
    {
     "data": {
      "text/plain": [
       "False"
      ]
     },
     "execution_count": 25,
     "metadata": {},
     "output_type": "execute_result"
    }
   ],
   "source": [
    "x is y"
   ]
  },
  {
   "cell_type": "code",
   "execution_count": 30,
   "metadata": {},
   "outputs": [
    {
     "name": "stdout",
     "output_type": "stream",
     "text": [
      "Digite um número: 42\n",
      "Você acertou!\n"
     ]
    }
   ],
   "source": [
    "numero = 42\n",
    "chute = input('Digite um número: ')\n",
    "\n",
    "if int(chute) == numero:\n",
    "    print('Você acertou!')\n",
    "else:\n",
    "    print('Você errou!')"
   ]
  },
  {
   "cell_type": "code",
   "execution_count": 35,
   "metadata": {},
   "outputs": [
    {
     "name": "stdout",
     "output_type": "stream",
     "text": [
      "************************\n",
      "*  Jogo de Advinhação  *\n",
      "************************\n",
      "Digite o seu número: 42\n",
      "Você Acertou!\n"
     ]
    }
   ],
   "source": [
    "# Exercícios - Jogo da adivinhação\n",
    "\n",
    "print('************************')\n",
    "print('*  Jogo de Advinhação  *')\n",
    "print('************************')\n",
    "\n",
    "numero_secreto = 42\n",
    "\n",
    "chute = int(input('Digite o seu número: '))\n",
    "\n",
    "if numero_secreto == chute:\n",
    "    print('Você Acertou!')\n",
    "elif numero_secreto < chute:\n",
    "    print('Você Errou! O seu chute foi maior que o número secreto!')\n",
    "elif numero_secreto > chute:\n",
    "    print('Você Errou! O seu chute foi menor que o número secreto!')"
   ]
  },
  {
   "cell_type": "code",
   "execution_count": 40,
   "metadata": {},
   "outputs": [
    {
     "name": "stdout",
     "output_type": "stream",
     "text": [
      "************************\n",
      "*  Jogo de Advinhação  *\n",
      "************************\n",
      "\n",
      "Tentativa 1 de 3.\n",
      "Digite o seu número: 12\n",
      "Você digitou:  12\n",
      "Você Errou! O seu chute foi menor que o número secreto!\n",
      "\n",
      "Tentativa 2 de 3.\n",
      "Digite o seu número: 44\n",
      "Você digitou:  44\n",
      "Você Errou! O seu chute foi maior que o número secreto!\n",
      "\n",
      "Tentativa 3 de 3.\n",
      "Digite o seu número: 42\n",
      "Você digitou:  42\n",
      "Você Acertou!\n",
      "\n",
      "Fim do Jogo!\n"
     ]
    }
   ],
   "source": [
    "# Exercícios - Jogo com while\n",
    "\n",
    "print('************************')\n",
    "print('*  Jogo de Advinhação  *')\n",
    "print('************************')\n",
    "\n",
    "numero_secreto = 42\n",
    "total_de_tentativas = 3\n",
    "rodada = 1\n",
    "\n",
    "while (rodada <= total_de_tentativas):\n",
    "    print('')\n",
    "    print('Tentativa {} de {}.'.format(rodada, total_de_tentativas))\n",
    "    chute = int(input('Digite o seu número: '))\n",
    "    print('Você digitou: ', chute)\n",
    "    \n",
    "    acertou = chute == numero_secreto\n",
    "    maior = chute > numero_secreto\n",
    "    menor = chute < numero_secreto\n",
    "    \n",
    "    if (acertou):\n",
    "        print('Você Acertou!')\n",
    "        break\n",
    "    elif (maior):\n",
    "        print('Você Errou! O seu chute foi maior que o número secreto!')\n",
    "    elif (menor):\n",
    "        print('Você Errou! O seu chute foi menor que o número secreto!')\n",
    "    \n",
    "    rodada = rodada + 1\n",
    "\n",
    "print('')\n",
    "print('Fim do Jogo!')"
   ]
  },
  {
   "cell_type": "code",
   "execution_count": 42,
   "metadata": {},
   "outputs": [
    {
     "name": "stdout",
     "output_type": "stream",
     "text": [
      "1\n",
      "2\n",
      "3\n",
      "4\n"
     ]
    }
   ],
   "source": [
    "for rodada in range(1,5):\n",
    "    print(rodada)"
   ]
  },
  {
   "cell_type": "code",
   "execution_count": 43,
   "metadata": {},
   "outputs": [
    {
     "name": "stdout",
     "output_type": "stream",
     "text": [
      "1\n",
      "3\n",
      "5\n",
      "7\n",
      "9\n"
     ]
    }
   ],
   "source": [
    "for rodada in range(1,10,2):\n",
    "    print(rodada)"
   ]
  },
  {
   "cell_type": "code",
   "execution_count": 44,
   "metadata": {},
   "outputs": [
    {
     "name": "stdout",
     "output_type": "stream",
     "text": [
      "1\n",
      "2\n",
      "3\n",
      "4\n",
      "5\n"
     ]
    }
   ],
   "source": [
    "for rodada in [1,2,3,4,5]:\n",
    "    print(rodada)"
   ]
  },
  {
   "cell_type": "code",
   "execution_count": 50,
   "metadata": {},
   "outputs": [
    {
     "name": "stdout",
     "output_type": "stream",
     "text": [
      "************************\n",
      "*  Jogo de Advinhação  *\n",
      "************************\n",
      "\n",
      "Escolha o nível: 1 (fácil), 2 (médio), ou 3 (difícil)!\n",
      "Digite o nível: 3\n",
      "\n",
      "\n",
      "Tentativa 1 de 5.\n",
      "Digite o seu número: 1\n",
      "Você digitou:  1\n",
      "Você Errou! O seu chute foi menor que o número secreto!\n",
      "\n",
      "Tentativa 2 de 5.\n",
      "Digite o seu número: 2\n",
      "Você digitou:  2\n",
      "Você Errou! O seu chute foi menor que o número secreto!\n",
      "\n",
      "Tentativa 3 de 5.\n",
      "Digite o seu número: 3\n",
      "Você digitou:  3\n",
      "Você Errou! O seu chute foi menor que o número secreto!\n",
      "\n",
      "Tentativa 4 de 5.\n",
      "Digite o seu número: 4\n",
      "Você digitou:  4\n",
      "Você Errou! O seu chute foi menor que o número secreto!\n",
      "\n",
      "Tentativa 5 de 5.\n",
      "Digite o seu número: 5\n",
      "Você digitou:  5\n",
      "Você Errou! O seu chute foi menor que o número secreto!\n",
      "\n",
      "Fim do Jogo!\n"
     ]
    }
   ],
   "source": [
    "# Exercícios - Utilizando o for no jogo\n",
    "\n",
    "print('************************')\n",
    "print('*  Jogo de Advinhação  *')\n",
    "print('************************')\n",
    "\n",
    "numero_secreto = 42\n",
    "total_de_tentativas = 0\n",
    "\n",
    "print('')\n",
    "print('Escolha o nível: 1 (fácil), 2 (médio), ou 3 (difícil)!')\n",
    "nivel = int(input('Digite o nível: '))\n",
    "print('')\n",
    "\n",
    "if (nivel == 1):\n",
    "    total_de_tentativas = 20\n",
    "elif (nivel == 2):\n",
    "    total_de_tentativas = 10\n",
    "elif (nivel == 3):\n",
    "    total_de_tentativas = 5\n",
    "    \n",
    "for rodada in range(1, total_de_tentativas + 1):\n",
    "    print('')\n",
    "    print('Tentativa {} de {}.'.format(rodada, total_de_tentativas))\n",
    "    chute = int(input('Digite o seu número: '))\n",
    "    print('Você digitou: ', chute)\n",
    "    \n",
    "    acertou = chute == numero_secreto\n",
    "    maior = chute > numero_secreto\n",
    "    menor = chute < numero_secreto\n",
    "    \n",
    "    if (acertou):\n",
    "        print('Você Acertou!')\n",
    "        break\n",
    "    elif (maior):\n",
    "        print('Você Errou! O seu chute foi maior que o número secreto!')\n",
    "    elif (menor):\n",
    "        print('Você Errou! O seu chute foi menor que o número secreto!')\n",
    "\n",
    "print('')\n",
    "print('Fim do Jogo!')"
   ]
  },
  {
   "cell_type": "code",
   "execution_count": 3,
   "metadata": {},
   "outputs": [
    {
     "name": "stdout",
     "output_type": "stream",
     "text": [
      "************************************\n",
      "***  Bem Vindo ao Jogo da Forca  ***\n",
      "************************************\n",
      "['_', '_', '_', '_', '_', '_']\n",
      "\n",
      "Qual letra? a\n",
      "['_', 'a', '_', 'a', '_', 'a']\n",
      "\n",
      "Qual letra? b\n",
      "['b', 'a', '_', 'a', '_', 'a']\n",
      "\n",
      "Qual letra? n\n",
      "['b', 'a', 'n', 'a', 'n', 'a']\n",
      "\n",
      "Você ganhou!!\n",
      "\n",
      "Fim do Jogo!\n"
     ]
    }
   ],
   "source": [
    "print('************************************')\n",
    "print('***  Bem Vindo ao Jogo da Forca  ***')\n",
    "print('************************************')\n",
    "\n",
    "palavra_secreta = 'banana'\n",
    "letras_acertadas = ['_', '_', '_', '_', '_', '_']\n",
    "\n",
    "acertou = False\n",
    "enforcou = False\n",
    "erros = 0\n",
    "\n",
    "print(letras_acertadas)\n",
    "\n",
    "while (not acertou and not enforcou):\n",
    "    chute = input('\\nQual letra? ')\n",
    "    \n",
    "    if (chute in palavra_secreta):\n",
    "        posicao = 0\n",
    "        for letra in palavra_secreta:\n",
    "            if (chute.upper() == letra.upper()):\n",
    "                letras_acertadas[posicao] = letra\n",
    "            posicao += 1\n",
    "    else:\n",
    "        erros += 1\n",
    "        \n",
    "    acertou = '_' not in letras_acertadas\n",
    "    enforcou = erros == 6\n",
    "        \n",
    "    print(letras_acertadas)\n",
    "\n",
    "print()\n",
    "\n",
    "if (acertou):\n",
    "    print('Você ganhou!!')\n",
    "else:\n",
    "    print('Você perdeu!!')\n",
    "\n",
    "print()\n",
    "print('Fim do Jogo!')"
   ]
  },
  {
   "cell_type": "code",
   "execution_count": 10,
   "metadata": {},
   "outputs": [
    {
     "data": {
      "text/plain": [
       "['zero', 'um', 'dois', 'três', 'quatro', 'cinco', 'sete', 'seis']"
      ]
     },
     "execution_count": 10,
     "metadata": {},
     "output_type": "execute_result"
    }
   ],
   "source": [
    "lista = ['zero', 'um']\n",
    "lista.extend(['dois', 'três'])\n",
    "lista += ['quatro', 'cinco']\n",
    "lista.append('sete')\n",
    "lista + ['seis']"
   ]
  },
  {
   "cell_type": "code",
   "execution_count": 8,
   "metadata": {},
   "outputs": [
    {
     "data": {
      "text/plain": [
       "tuple"
      ]
     },
     "execution_count": 8,
     "metadata": {},
     "output_type": "execute_result"
    }
   ],
   "source": [
    "dias = ('domingo', 'segunda')\n",
    "type(dias)"
   ]
  },
  {
   "cell_type": "code",
   "execution_count": 9,
   "metadata": {},
   "outputs": [
    {
     "data": {
      "text/plain": [
       "tuple"
      ]
     },
     "execution_count": 9,
     "metadata": {},
     "output_type": "execute_result"
    }
   ],
   "source": [
    "dias2 = 'domingo', 'segunda'\n",
    "type(dias2)"
   ]
  },
  {
   "cell_type": "code",
   "execution_count": 14,
   "metadata": {},
   "outputs": [
    {
     "data": {
      "text/plain": [
       "(1, 2, [3, 4])"
      ]
     },
     "execution_count": 14,
     "metadata": {},
     "output_type": "execute_result"
    }
   ],
   "source": [
    "lista = [3, 4]\n",
    "tupla = (1, 2, lista)\n",
    "tupla\n",
    "lista = [4, 4]\n",
    "tupla"
   ]
  },
  {
   "cell_type": "markdown",
   "metadata": {},
   "source": [
    "# Funções"
   ]
  },
  {
   "cell_type": "code",
   "execution_count": 15,
   "metadata": {},
   "outputs": [],
   "source": [
    "def velocidade(espaco, tempo):\n",
    "    v = espaco / tempo\n",
    "    print('velocidade: {} m/s'.format(v))"
   ]
  },
  {
   "cell_type": "code",
   "execution_count": 16,
   "metadata": {},
   "outputs": [
    {
     "name": "stdout",
     "output_type": "stream",
     "text": [
      "velocidade: 3.125 m/s\n"
     ]
    }
   ],
   "source": [
    "velocidade(100, 32)"
   ]
  },
  {
   "cell_type": "code",
   "execution_count": 17,
   "metadata": {},
   "outputs": [],
   "source": [
    "def diz_oi():\n",
    "    print('oi')"
   ]
  },
  {
   "cell_type": "code",
   "execution_count": 18,
   "metadata": {},
   "outputs": [
    {
     "name": "stdout",
     "output_type": "stream",
     "text": [
      "oi\n"
     ]
    }
   ],
   "source": [
    "diz_oi()"
   ]
  },
  {
   "cell_type": "code",
   "execution_count": 19,
   "metadata": {},
   "outputs": [],
   "source": [
    "def dados(nome, idade=None):\n",
    "    print('nome: {}'.format(nome))\n",
    "    \n",
    "    if (idade is not None):\n",
    "        print('idade: {}'.format(idade))\n",
    "    else:\n",
    "        print('idade: não informada')"
   ]
  },
  {
   "cell_type": "code",
   "execution_count": 20,
   "metadata": {},
   "outputs": [
    {
     "name": "stdout",
     "output_type": "stream",
     "text": [
      "nome: Emanuel\n",
      "idade: não informada\n"
     ]
    }
   ],
   "source": [
    "dados('Emanuel')"
   ]
  },
  {
   "cell_type": "code",
   "execution_count": 23,
   "metadata": {},
   "outputs": [],
   "source": [
    "def velocidade(espaco, tempo):\n",
    "    v = espaco / tempo\n",
    "    return v"
   ]
  },
  {
   "cell_type": "code",
   "execution_count": 26,
   "metadata": {},
   "outputs": [
    {
     "data": {
      "text/plain": [
       "43.47826086956522"
      ]
     },
     "execution_count": 26,
     "metadata": {},
     "output_type": "execute_result"
    }
   ],
   "source": [
    "resultado = velocidade(1000, 23)\n",
    "resultado"
   ]
  },
  {
   "cell_type": "code",
   "execution_count": 27,
   "metadata": {},
   "outputs": [],
   "source": [
    "def calculadora(x, y):\n",
    "    return x+y, x-y"
   ]
  },
  {
   "cell_type": "code",
   "execution_count": 28,
   "metadata": {},
   "outputs": [
    {
     "data": {
      "text/plain": [
       "(15, 5)"
      ]
     },
     "execution_count": 28,
     "metadata": {},
     "output_type": "execute_result"
    }
   ],
   "source": [
    "calculadora(10, 5)"
   ]
  },
  {
   "cell_type": "code",
   "execution_count": 29,
   "metadata": {},
   "outputs": [
    {
     "data": {
      "text/plain": [
       "tuple"
      ]
     },
     "execution_count": 29,
     "metadata": {},
     "output_type": "execute_result"
    }
   ],
   "source": [
    "type(calculadora(10, 5))"
   ]
  },
  {
   "cell_type": "code",
   "execution_count": 30,
   "metadata": {},
   "outputs": [],
   "source": [
    "def calculadora(x, y):\n",
    "    return {'soma':x+y, 'subtração':x-y}"
   ]
  },
  {
   "cell_type": "code",
   "execution_count": 31,
   "metadata": {},
   "outputs": [
    {
     "name": "stdout",
     "output_type": "stream",
     "text": [
      "soma:14\n",
      "subtração:6\n"
     ]
    }
   ],
   "source": [
    "resultados = calculadora(10, 4)\n",
    "for key in resultados:\n",
    "    print('{}:{}'.format(key, resultados[key]))"
   ]
  },
  {
   "cell_type": "code",
   "execution_count": 37,
   "metadata": {},
   "outputs": [],
   "source": [
    "def velocidade_media(distancia, tempo):\n",
    "    velocidade = distancia / tempo\n",
    "    return velocidade"
   ]
  },
  {
   "cell_type": "code",
   "execution_count": 38,
   "metadata": {},
   "outputs": [
    {
     "data": {
      "text/plain": [
       "5.0"
      ]
     },
     "execution_count": 38,
     "metadata": {},
     "output_type": "execute_result"
    }
   ],
   "source": [
    "velocidade_media(100, 20)"
   ]
  },
  {
   "cell_type": "code",
   "execution_count": 39,
   "metadata": {},
   "outputs": [
    {
     "data": {
      "text/plain": [
       "6.818181818181818"
      ]
     },
     "execution_count": 39,
     "metadata": {},
     "output_type": "execute_result"
    }
   ],
   "source": [
    "velocidade_media(150, 22)"
   ]
  },
  {
   "cell_type": "code",
   "execution_count": 40,
   "metadata": {},
   "outputs": [
    {
     "data": {
      "text/plain": [
       "6.666666666666667"
      ]
     },
     "execution_count": 40,
     "metadata": {},
     "output_type": "execute_result"
    }
   ],
   "source": [
    "velocidade_media(200, 30)"
   ]
  },
  {
   "cell_type": "code",
   "execution_count": 41,
   "metadata": {},
   "outputs": [
    {
     "data": {
      "text/plain": [
       "16.666666666666668"
      ]
     },
     "execution_count": 41,
     "metadata": {},
     "output_type": "execute_result"
    }
   ],
   "source": [
    "velocidade_media(50, 3)"
   ]
  },
  {
   "cell_type": "code",
   "execution_count": 42,
   "metadata": {},
   "outputs": [],
   "source": [
    "def soma(x, y):\n",
    "    return x+y"
   ]
  },
  {
   "cell_type": "code",
   "execution_count": 43,
   "metadata": {},
   "outputs": [],
   "source": [
    "def subtracao(x, y):\n",
    "    return x-y"
   ]
  },
  {
   "cell_type": "code",
   "execution_count": 45,
   "metadata": {},
   "outputs": [],
   "source": [
    "def calculadora(x, y):\n",
    "    return x+y, x-y, x*y, x/y"
   ]
  },
  {
   "cell_type": "code",
   "execution_count": 46,
   "metadata": {},
   "outputs": [
    {
     "data": {
      "text/plain": [
       "(15, 5, 50, 2.0)"
      ]
     },
     "execution_count": 46,
     "metadata": {},
     "output_type": "execute_result"
    }
   ],
   "source": [
    "calculadora(10,5)"
   ]
  },
  {
   "cell_type": "code",
   "execution_count": 47,
   "metadata": {},
   "outputs": [],
   "source": [
    "def divisao(x, y):\n",
    "    return x/y"
   ]
  },
  {
   "cell_type": "code",
   "execution_count": 48,
   "metadata": {},
   "outputs": [],
   "source": [
    "def velocidade_media(distancia, tempo):\n",
    "    return divisao(distancia, tempo)"
   ]
  },
  {
   "cell_type": "code",
   "execution_count": 50,
   "metadata": {},
   "outputs": [
    {
     "data": {
      "text/plain": [
       "5.0"
      ]
     },
     "execution_count": 50,
     "metadata": {},
     "output_type": "execute_result"
    }
   ],
   "source": [
    "velocidade_media(100,20)"
   ]
  },
  {
   "cell_type": "code",
   "execution_count": 51,
   "metadata": {},
   "outputs": [
    {
     "data": {
      "text/plain": [
       "-2.0"
      ]
     },
     "execution_count": 51,
     "metadata": {},
     "output_type": "execute_result"
    }
   ],
   "source": [
    "velocidade_media(-20, 10)"
   ]
  },
  {
   "cell_type": "code",
   "execution_count": 53,
   "metadata": {},
   "outputs": [
    {
     "ename": "ZeroDivisionError",
     "evalue": "division by zero",
     "output_type": "error",
     "traceback": [
      "\u001b[1;31m---------------------------------------------------------------------------\u001b[0m",
      "\u001b[1;31mZeroDivisionError\u001b[0m                         Traceback (most recent call last)",
      "\u001b[1;32m<ipython-input-53-aade1df0db33>\u001b[0m in \u001b[0;36m<module>\u001b[1;34m\u001b[0m\n\u001b[1;32m----> 1\u001b[1;33m \u001b[0mvelocidade_media\u001b[0m\u001b[1;33m(\u001b[0m\u001b[1;36m150\u001b[0m\u001b[1;33m,\u001b[0m \u001b[1;36m0\u001b[0m\u001b[1;33m)\u001b[0m \u001b[1;31m# error\u001b[0m\u001b[1;33m\u001b[0m\u001b[1;33m\u001b[0m\u001b[0m\n\u001b[0m",
      "\u001b[1;32m<ipython-input-48-c9e272da1711>\u001b[0m in \u001b[0;36mvelocidade_media\u001b[1;34m(distancia, tempo)\u001b[0m\n\u001b[0;32m      1\u001b[0m \u001b[1;32mdef\u001b[0m \u001b[0mvelocidade_media\u001b[0m\u001b[1;33m(\u001b[0m\u001b[0mdistancia\u001b[0m\u001b[1;33m,\u001b[0m \u001b[0mtempo\u001b[0m\u001b[1;33m)\u001b[0m\u001b[1;33m:\u001b[0m\u001b[1;33m\u001b[0m\u001b[1;33m\u001b[0m\u001b[0m\n\u001b[1;32m----> 2\u001b[1;33m     \u001b[1;32mreturn\u001b[0m \u001b[0mdivisao\u001b[0m\u001b[1;33m(\u001b[0m\u001b[0mdistancia\u001b[0m\u001b[1;33m,\u001b[0m \u001b[0mtempo\u001b[0m\u001b[1;33m)\u001b[0m\u001b[1;33m\u001b[0m\u001b[1;33m\u001b[0m\u001b[0m\n\u001b[0m",
      "\u001b[1;32m<ipython-input-47-06399259d98a>\u001b[0m in \u001b[0;36mdivisao\u001b[1;34m(x, y)\u001b[0m\n\u001b[0;32m      1\u001b[0m \u001b[1;32mdef\u001b[0m \u001b[0mdivisao\u001b[0m\u001b[1;33m(\u001b[0m\u001b[0mx\u001b[0m\u001b[1;33m,\u001b[0m \u001b[0my\u001b[0m\u001b[1;33m)\u001b[0m\u001b[1;33m:\u001b[0m\u001b[1;33m\u001b[0m\u001b[1;33m\u001b[0m\u001b[0m\n\u001b[1;32m----> 2\u001b[1;33m     \u001b[1;32mreturn\u001b[0m \u001b[0mx\u001b[0m\u001b[1;33m/\u001b[0m\u001b[0my\u001b[0m\u001b[1;33m\u001b[0m\u001b[1;33m\u001b[0m\u001b[0m\n\u001b[0m",
      "\u001b[1;31mZeroDivisionError\u001b[0m: division by zero"
     ]
    }
   ],
   "source": [
    "velocidade_media(150, 0) # error"
   ]
  },
  {
   "cell_type": "code",
   "execution_count": 58,
   "metadata": {},
   "outputs": [],
   "source": [
    "def teste(arg, *args):\n",
    "    print('primeiro argumento normal: {}'.format(arg))\n",
    "    for variavel in args:\n",
    "        print('outro argumento: {}'.format(variavel))"
   ]
  },
  {
   "cell_type": "code",
   "execution_count": 59,
   "metadata": {},
   "outputs": [
    {
     "name": "stdout",
     "output_type": "stream",
     "text": [
      "primeiro argumento normal: python\n",
      "outro argumento: é\n",
      "outro argumento: muito\n",
      "outro argumento: legal\n"
     ]
    }
   ],
   "source": [
    "teste('python', 'é', 'muito', 'legal')"
   ]
  },
  {
   "cell_type": "code",
   "execution_count": 61,
   "metadata": {},
   "outputs": [
    {
     "name": "stdout",
     "output_type": "stream",
     "text": [
      "primeiro argumento normal: python\n",
      "outro argumento: é\n",
      "outro argumento: muito\n",
      "outro argumento: legal\n"
     ]
    }
   ],
   "source": [
    "lista = ['é', 'muito', 'legal']\n",
    "teste('python', *lista)"
   ]
  },
  {
   "cell_type": "code",
   "execution_count": 62,
   "metadata": {},
   "outputs": [],
   "source": [
    "def minha_funcao(**kwargs):\n",
    "    for key, value in kwargs.items():\n",
    "        print('{} = {}'.format(key, value))"
   ]
  },
  {
   "cell_type": "code",
   "execution_count": 63,
   "metadata": {},
   "outputs": [
    {
     "name": "stdout",
     "output_type": "stream",
     "text": [
      "nome = emanuel\n"
     ]
    }
   ],
   "source": [
    "minha_funcao(nome='emanuel')"
   ]
  },
  {
   "cell_type": "code",
   "execution_count": 65,
   "metadata": {},
   "outputs": [
    {
     "name": "stdout",
     "output_type": "stream",
     "text": [
      "nome = dario\n",
      "idade = 22\n"
     ]
    }
   ],
   "source": [
    "dicionario = {'nome':'dario', 'idade':22}\n",
    "minha_funcao(**dicionario)"
   ]
  },
  {
   "cell_type": "code",
   "execution_count": 1,
   "metadata": {},
   "outputs": [],
   "source": [
    "def test_args_kwargs(arg1, arg2, arg3):\n",
    "    print('arg1: ', arg1)\n",
    "    print('arg2: ', arg2)\n",
    "    print('arg3: ', arg3)"
   ]
  },
  {
   "cell_type": "code",
   "execution_count": 4,
   "metadata": {},
   "outputs": [
    {
     "name": "stdout",
     "output_type": "stream",
     "text": [
      "arg1:  um\n",
      "arg2:  2\n",
      "arg3:  3\n"
     ]
    }
   ],
   "source": [
    "args = ('um', 2, 3)\n",
    "test_args_kwargs(*args)"
   ]
  },
  {
   "cell_type": "code",
   "execution_count": 6,
   "metadata": {},
   "outputs": [
    {
     "name": "stdout",
     "output_type": "stream",
     "text": [
      "arg1:  um\n",
      "arg2:  dois\n",
      "arg3:  3\n"
     ]
    }
   ],
   "source": [
    "kwargs= {'arg3': 3, 'arg2':'dois', 'arg1':'um'}\n",
    "test_args_kwargs(**kwargs)"
   ]
  },
  {
   "cell_type": "code",
   "execution_count": 7,
   "metadata": {},
   "outputs": [
    {
     "ename": "TypeError",
     "evalue": "test_args_kwargs() got an unexpected keyword argument 'arg4'",
     "output_type": "error",
     "traceback": [
      "\u001b[1;31m---------------------------------------------------------------------------\u001b[0m",
      "\u001b[1;31mTypeError\u001b[0m                                 Traceback (most recent call last)",
      "\u001b[1;32m<ipython-input-7-f2773ea9aa69>\u001b[0m in \u001b[0;36m<module>\u001b[1;34m\u001b[0m\n\u001b[0;32m      1\u001b[0m \u001b[0mkwargs\u001b[0m\u001b[1;33m=\u001b[0m \u001b[1;33m{\u001b[0m\u001b[1;34m'arg3'\u001b[0m\u001b[1;33m:\u001b[0m \u001b[1;36m3\u001b[0m\u001b[1;33m,\u001b[0m \u001b[1;34m'arg2'\u001b[0m\u001b[1;33m:\u001b[0m\u001b[1;34m'dois'\u001b[0m\u001b[1;33m,\u001b[0m \u001b[1;34m'arg1'\u001b[0m\u001b[1;33m:\u001b[0m\u001b[1;34m'um'\u001b[0m\u001b[1;33m,\u001b[0m \u001b[1;34m'arg4'\u001b[0m\u001b[1;33m:\u001b[0m\u001b[1;36m4\u001b[0m\u001b[1;33m}\u001b[0m\u001b[1;33m\u001b[0m\u001b[1;33m\u001b[0m\u001b[0m\n\u001b[1;32m----> 2\u001b[1;33m \u001b[0mtest_args_kwargs\u001b[0m\u001b[1;33m(\u001b[0m\u001b[1;33m**\u001b[0m\u001b[0mkwargs\u001b[0m\u001b[1;33m)\u001b[0m\u001b[1;33m\u001b[0m\u001b[1;33m\u001b[0m\u001b[0m\n\u001b[0m",
      "\u001b[1;31mTypeError\u001b[0m: test_args_kwargs() got an unexpected keyword argument 'arg4'"
     ]
    }
   ],
   "source": [
    "kwargs= {'arg3': 3, 'arg2':'dois', 'arg1':'um', 'arg4':4}\n",
    "test_args_kwargs(**kwargs)"
   ]
  },
  {
   "cell_type": "code",
   "execution_count": 8,
   "metadata": {},
   "outputs": [
    {
     "ename": "TypeError",
     "evalue": "test_args_kwargs() takes 3 positional arguments but 4 were given",
     "output_type": "error",
     "traceback": [
      "\u001b[1;31m---------------------------------------------------------------------------\u001b[0m",
      "\u001b[1;31mTypeError\u001b[0m                                 Traceback (most recent call last)",
      "\u001b[1;32m<ipython-input-8-59dba3559bf9>\u001b[0m in \u001b[0;36m<module>\u001b[1;34m\u001b[0m\n\u001b[0;32m      1\u001b[0m \u001b[0margs\u001b[0m \u001b[1;33m=\u001b[0m \u001b[1;33m(\u001b[0m\u001b[1;34m'um'\u001b[0m\u001b[1;33m,\u001b[0m \u001b[1;36m2\u001b[0m\u001b[1;33m,\u001b[0m \u001b[1;36m3\u001b[0m\u001b[1;33m,\u001b[0m \u001b[1;36m4\u001b[0m\u001b[1;33m)\u001b[0m\u001b[1;33m\u001b[0m\u001b[1;33m\u001b[0m\u001b[0m\n\u001b[1;32m----> 2\u001b[1;33m \u001b[0mtest_args_kwargs\u001b[0m\u001b[1;33m(\u001b[0m\u001b[1;33m*\u001b[0m\u001b[0margs\u001b[0m\u001b[1;33m)\u001b[0m\u001b[1;33m\u001b[0m\u001b[1;33m\u001b[0m\u001b[0m\n\u001b[0m",
      "\u001b[1;31mTypeError\u001b[0m: test_args_kwargs() takes 3 positional arguments but 4 were given"
     ]
    }
   ],
   "source": [
    "args = ('um', 2, 3, 4)\n",
    "test_args_kwargs(*args)"
   ]
  },
  {
   "cell_type": "code",
   "execution_count": 1,
   "metadata": {},
   "outputs": [],
   "source": [
    "# Sometimes need restart kernel for import work\n",
    "import forca"
   ]
  },
  {
   "cell_type": "code",
   "execution_count": 2,
   "metadata": {},
   "outputs": [
    {
     "name": "stdout",
     "output_type": "stream",
     "text": [
      "************************************\n",
      "***  Bem Vindo ao Jogo da Forca  ***\n",
      "************************************\n",
      "['_', '_', '_', '_', '_', '_']\n",
      "\n",
      "Qual letra? a\n",
      "['_', 'a', '_', 'a', '_', 'a']\n",
      "\n",
      "Qual letra? b\n",
      "['b', 'a', '_', 'a', '_', 'a']\n",
      "\n",
      "Qual letra? n\n",
      "['b', 'a', 'n', 'a', 'n', 'a']\n",
      "\n",
      "Você ganhou!!\n",
      "\n",
      "Fim do Jogo!\n"
     ]
    }
   ],
   "source": [
    "forca.jogar()"
   ]
  },
  {
   "cell_type": "code",
   "execution_count": 3,
   "metadata": {},
   "outputs": [
    {
     "data": {
      "text/plain": [
       "module"
      ]
     },
     "execution_count": 3,
     "metadata": {},
     "output_type": "execute_result"
    }
   ],
   "source": [
    "type(forca)"
   ]
  },
  {
   "cell_type": "code",
   "execution_count": 4,
   "metadata": {},
   "outputs": [],
   "source": [
    "arquivo = open('palavras.txt', 'w')\n",
    "\n",
    "arquivo.write('banana\\n')\n",
    "arquivo.write('melancia\\n')\n",
    "arquivo.write('morango\\n')\n",
    "arquivo.write('manga\\n')\n",
    "\n",
    "arquivo.close()"
   ]
  },
  {
   "cell_type": "code",
   "execution_count": 9,
   "metadata": {},
   "outputs": [
    {
     "name": "stdout",
     "output_type": "stream",
     "text": [
      "banana\n",
      "\n",
      "melancia\n",
      "\n",
      "morango\n",
      "\n",
      "manga\n",
      "\n"
     ]
    }
   ],
   "source": [
    "arquivo = open('palavras.txt', 'r')\n",
    "\n",
    "for linha in arquivo:\n",
    "    print(linha)\n",
    "    \n",
    "arquivo.close()"
   ]
  },
  {
   "cell_type": "code",
   "execution_count": 10,
   "metadata": {},
   "outputs": [
    {
     "data": {
      "text/plain": [
       "'banana\\n'"
      ]
     },
     "execution_count": 10,
     "metadata": {},
     "output_type": "execute_result"
    }
   ],
   "source": [
    "arquivo = open('palavras.txt', 'r')\n",
    "\n",
    "linha = arquivo.readline()\n",
    "\n",
    "arquivo.close()\n",
    "\n",
    "linha"
   ]
  },
  {
   "cell_type": "code",
   "execution_count": 11,
   "metadata": {},
   "outputs": [
    {
     "data": {
      "text/plain": [
       "['banana', 'melancia', 'morango', 'manga']"
      ]
     },
     "execution_count": 11,
     "metadata": {},
     "output_type": "execute_result"
    }
   ],
   "source": [
    "arquivo = open('palavras.txt', 'r')\n",
    "palavras = []\n",
    "\n",
    "for linha in arquivo:\n",
    "    linha = linha.strip()\n",
    "    palavras.append(linha)\n",
    "    \n",
    "arquivo.close()\n",
    "\n",
    "palavras"
   ]
  },
  {
   "cell_type": "code",
   "execution_count": 12,
   "metadata": {},
   "outputs": [],
   "source": [
    "import random"
   ]
  },
  {
   "cell_type": "code",
   "execution_count": 13,
   "metadata": {},
   "outputs": [
    {
     "data": {
      "text/plain": [
       "1"
      ]
     },
     "execution_count": 13,
     "metadata": {},
     "output_type": "execute_result"
    }
   ],
   "source": [
    "random.randrange(0, 4)"
   ]
  },
  {
   "cell_type": "code",
   "execution_count": 5,
   "metadata": {},
   "outputs": [],
   "source": [
    "import forca"
   ]
  },
  {
   "cell_type": "code",
   "execution_count": 6,
   "metadata": {},
   "outputs": [
    {
     "name": "stdout",
     "output_type": "stream",
     "text": [
      "************************************\n",
      "***  Bem Vindo ao Jogo da Forca  ***\n",
      "************************************\n",
      "['_', '_', '_', '_', '_', '_', '_']\n",
      "\n",
      "Qual letra? d\n",
      "['_', '_', '_', '_', '_', '_', '_']\n",
      "\n",
      "Qual letra? s\n",
      "['_', '_', '_', '_', '_', '_', '_']\n",
      "\n",
      "Qual letra? a\n",
      "['_', '_', '_', 'A', '_', '_', '_']\n",
      "\n",
      "Qual letra? f\n",
      "['_', '_', '_', 'A', '_', '_', '_']\n",
      "\n",
      "Qual letra? g\n",
      "['_', '_', '_', 'A', '_', 'G', '_']\n",
      "\n",
      "Qual letra? y\n",
      "['_', '_', '_', 'A', '_', 'G', '_']\n",
      "\n",
      "Qual letra? j\n",
      "['_', '_', '_', 'A', '_', 'G', '_']\n",
      "\n",
      "Qual letra? c\n",
      "['_', '_', '_', 'A', '_', 'G', '_']\n",
      "\n",
      "Qual letra? v\n",
      "['_', '_', '_', 'A', '_', 'G', '_']\n",
      "\n",
      "Puxa, você foi enforcado!\n",
      "A palavra era MORANGO\n",
      "    _______________         \n",
      "   /               \\        \n",
      "  /                 \\       \n",
      "//                   \\/\\    \n",
      "\\|   XXXX     XXXX   | /    \n",
      " |   XXXX     XXXX   |/     \n",
      " |   XXX       XXX   |      \n",
      " |                   |      \n",
      " \\__      XXX      __/      \n",
      "   |\\     XXX     /|        \n",
      "   | |           | |        \n",
      "   | I I I I I I I |        \n",
      "   |  I I I I I I  |        \n",
      "   \\_             _/        \n",
      "     \\_         _/          \n",
      "       \\_______/            \n",
      "\n",
      "Fim do Jogo!\n"
     ]
    }
   ],
   "source": [
    "forca.jogar()"
   ]
  },
  {
   "cell_type": "code",
   "execution_count": 1,
   "metadata": {},
   "outputs": [],
   "source": [
    "from conta import Conta"
   ]
  },
  {
   "cell_type": "code",
   "execution_count": 2,
   "metadata": {},
   "outputs": [
    {
     "name": "stdout",
     "output_type": "stream",
     "text": [
      "inicializando uma conta\n"
     ]
    }
   ],
   "source": [
    "conta1 = Conta('123-4', 'João', 120.0, 1000.0)"
   ]
  },
  {
   "cell_type": "code",
   "execution_count": 3,
   "metadata": {},
   "outputs": [
    {
     "ename": "NameError",
     "evalue": "name 'conta' is not defined",
     "output_type": "error",
     "traceback": [
      "\u001b[1;31m---------------------------------------------------------------------------\u001b[0m",
      "\u001b[1;31mNameError\u001b[0m                                 Traceback (most recent call last)",
      "\u001b[1;32m<ipython-input-3-30596976849e>\u001b[0m in \u001b[0;36m<module>\u001b[1;34m\u001b[0m\n\u001b[1;32m----> 1\u001b[1;33m \u001b[0mtype\u001b[0m\u001b[1;33m(\u001b[0m\u001b[0mconta\u001b[0m\u001b[1;33m)\u001b[0m\u001b[1;33m\u001b[0m\u001b[1;33m\u001b[0m\u001b[0m\n\u001b[0m",
      "\u001b[1;31mNameError\u001b[0m: name 'conta' is not defined"
     ]
    }
   ],
   "source": [
    "type(conta)"
   ]
  },
  {
   "cell_type": "code",
   "execution_count": 4,
   "metadata": {},
   "outputs": [
    {
     "data": {
      "text/plain": [
       "'João'"
      ]
     },
     "execution_count": 4,
     "metadata": {},
     "output_type": "execute_result"
    }
   ],
   "source": [
    "conta1.titular"
   ]
  },
  {
   "cell_type": "code",
   "execution_count": 5,
   "metadata": {},
   "outputs": [
    {
     "name": "stdout",
     "output_type": "stream",
     "text": [
      "numero: 123-4 \n",
      "saldo: 120.0\n"
     ]
    }
   ],
   "source": [
    "conta1.extrato()"
   ]
  },
  {
   "cell_type": "code",
   "execution_count": 6,
   "metadata": {},
   "outputs": [],
   "source": [
    "conta1.deposita(100.0)"
   ]
  },
  {
   "cell_type": "code",
   "execution_count": 7,
   "metadata": {},
   "outputs": [
    {
     "name": "stdout",
     "output_type": "stream",
     "text": [
      "numero: 123-4 \n",
      "saldo: 220.0\n"
     ]
    }
   ],
   "source": [
    "conta1.extrato()"
   ]
  },
  {
   "cell_type": "code",
   "execution_count": 8,
   "metadata": {},
   "outputs": [
    {
     "name": "stdout",
     "output_type": "stream",
     "text": [
      "consegui sacar\n"
     ]
    }
   ],
   "source": [
    "consegui = conta1.saca(25)\n",
    "\n",
    "if (consegui):\n",
    "    print('consegui sacar')\n",
    "else:\n",
    "    print('não consegui sacar')"
   ]
  },
  {
   "cell_type": "code",
   "execution_count": 9,
   "metadata": {},
   "outputs": [
    {
     "name": "stdout",
     "output_type": "stream",
     "text": [
      "numero: 123-4 \n",
      "saldo: 195.0\n"
     ]
    }
   ],
   "source": [
    "conta1.extrato()"
   ]
  },
  {
   "cell_type": "markdown",
   "metadata": {},
   "source": [
    "### Objetos são acessados por referência"
   ]
  },
  {
   "cell_type": "code",
   "execution_count": 15,
   "metadata": {},
   "outputs": [],
   "source": [
    "from conta import Conta"
   ]
  },
  {
   "cell_type": "code",
   "execution_count": 16,
   "metadata": {},
   "outputs": [
    {
     "name": "stdout",
     "output_type": "stream",
     "text": [
      "inicializando uma conta\n"
     ]
    }
   ],
   "source": [
    "c1 = Conta('123-4', 'João', 120.0, 1000.0)"
   ]
  },
  {
   "cell_type": "code",
   "execution_count": 17,
   "metadata": {},
   "outputs": [],
   "source": [
    "c2 = c1"
   ]
  },
  {
   "cell_type": "code",
   "execution_count": 18,
   "metadata": {},
   "outputs": [
    {
     "name": "stdout",
     "output_type": "stream",
     "text": [
      "numero: 123-4 \n",
      "saldo: 120.0\n"
     ]
    }
   ],
   "source": [
    "c2.extrato()"
   ]
  },
  {
   "cell_type": "code",
   "execution_count": 19,
   "metadata": {},
   "outputs": [
    {
     "name": "stdout",
     "output_type": "stream",
     "text": [
      "numero: 123-4 \n",
      "saldo: 220.0\n"
     ]
    }
   ],
   "source": [
    "c1.deposita(100.0)\n",
    "c1.extrato()"
   ]
  },
  {
   "cell_type": "code",
   "execution_count": 20,
   "metadata": {},
   "outputs": [
    {
     "name": "stdout",
     "output_type": "stream",
     "text": [
      "numero: 123-4 \n",
      "saldo: 250.0\n"
     ]
    }
   ],
   "source": [
    "c2.deposita(30.0)\n",
    "c2.extrato()"
   ]
  },
  {
   "cell_type": "code",
   "execution_count": 21,
   "metadata": {},
   "outputs": [
    {
     "data": {
      "text/plain": [
       "2183148418944"
      ]
     },
     "execution_count": 21,
     "metadata": {},
     "output_type": "execute_result"
    }
   ],
   "source": [
    "id(c1)"
   ]
  },
  {
   "cell_type": "code",
   "execution_count": 22,
   "metadata": {},
   "outputs": [
    {
     "data": {
      "text/plain": [
       "2183148418944"
      ]
     },
     "execution_count": 22,
     "metadata": {},
     "output_type": "execute_result"
    }
   ],
   "source": [
    "id(c2)"
   ]
  },
  {
   "cell_type": "code",
   "execution_count": 23,
   "metadata": {},
   "outputs": [
    {
     "data": {
      "text/plain": [
       "True"
      ]
     },
     "execution_count": 23,
     "metadata": {},
     "output_type": "execute_result"
    }
   ],
   "source": [
    "id(c1) == id(c2)"
   ]
  },
  {
   "cell_type": "code",
   "execution_count": 24,
   "metadata": {},
   "outputs": [
    {
     "data": {
      "text/plain": [
       "True"
      ]
     },
     "execution_count": 24,
     "metadata": {},
     "output_type": "execute_result"
    }
   ],
   "source": [
    "c1 == c2"
   ]
  },
  {
   "cell_type": "code",
   "execution_count": 25,
   "metadata": {},
   "outputs": [
    {
     "name": "stdout",
     "output_type": "stream",
     "text": [
      "data abertura: 2019-09-19 11:02:24.893384\n",
      "transações: \n",
      "- tirou extrato - saldo de 120.0\n",
      "- depósito de 100.0\n",
      "- tirou extrato - saldo de 220.0\n",
      "- depósito de 30.0\n",
      "- tirou extrato - saldo de 250.0\n"
     ]
    }
   ],
   "source": [
    "c1.historico.imprime()"
   ]
  },
  {
   "cell_type": "code",
   "execution_count": 26,
   "metadata": {},
   "outputs": [
    {
     "name": "stdout",
     "output_type": "stream",
     "text": [
      "inicializando uma conta\n",
      "inicializando uma conta\n"
     ]
    }
   ],
   "source": [
    "c1 = Conta(\"123-4\", \"Python\", 500.0, 1000.0)\n",
    "c2 = Conta(\"123-4\", \"Python\", 500.0, 1000.0)"
   ]
  },
  {
   "cell_type": "code",
   "execution_count": 27,
   "metadata": {},
   "outputs": [
    {
     "data": {
      "text/plain": [
       "False"
      ]
     },
     "execution_count": 27,
     "metadata": {},
     "output_type": "execute_result"
    }
   ],
   "source": [
    "c1 == c2"
   ]
  },
  {
   "cell_type": "markdown",
   "metadata": {},
   "source": [
    "### Modificadores de acesso e métodos de classe"
   ]
  },
  {
   "cell_type": "code",
   "execution_count": 1,
   "metadata": {},
   "outputs": [],
   "source": [
    "class Pessoa:\n",
    "    def __init__(self, idade):\n",
    "        self.__idade = idade"
   ]
  },
  {
   "cell_type": "code",
   "execution_count": 2,
   "metadata": {},
   "outputs": [],
   "source": [
    "pessoa = Pessoa(idade=20)"
   ]
  },
  {
   "cell_type": "code",
   "execution_count": 3,
   "metadata": {},
   "outputs": [
    {
     "ename": "AttributeError",
     "evalue": "'Pessoa' object has no attribute 'idade'",
     "output_type": "error",
     "traceback": [
      "\u001b[1;31m---------------------------------------------------------------------------\u001b[0m",
      "\u001b[1;31mAttributeError\u001b[0m                            Traceback (most recent call last)",
      "\u001b[1;32m<ipython-input-3-be00b9273605>\u001b[0m in \u001b[0;36m<module>\u001b[1;34m\u001b[0m\n\u001b[1;32m----> 1\u001b[1;33m \u001b[0mpessoa\u001b[0m\u001b[1;33m.\u001b[0m\u001b[0midade\u001b[0m\u001b[1;33m\u001b[0m\u001b[1;33m\u001b[0m\u001b[0m\n\u001b[0m",
      "\u001b[1;31mAttributeError\u001b[0m: 'Pessoa' object has no attribute 'idade'"
     ]
    }
   ],
   "source": [
    "pessoa.idade"
   ]
  },
  {
   "cell_type": "code",
   "execution_count": 7,
   "metadata": {},
   "outputs": [
    {
     "data": {
      "text/plain": [
       "20"
      ]
     },
     "execution_count": 7,
     "metadata": {},
     "output_type": "execute_result"
    }
   ],
   "source": [
    "pessoa._Pessoa__idade"
   ]
  },
  {
   "cell_type": "code",
   "execution_count": 8,
   "metadata": {},
   "outputs": [
    {
     "data": {
      "text/plain": [
       "['_Pessoa__idade',\n",
       " '__class__',\n",
       " '__delattr__',\n",
       " '__dict__',\n",
       " '__dir__',\n",
       " '__doc__',\n",
       " '__eq__',\n",
       " '__format__',\n",
       " '__ge__',\n",
       " '__getattribute__',\n",
       " '__gt__',\n",
       " '__hash__',\n",
       " '__init__',\n",
       " '__init_subclass__',\n",
       " '__le__',\n",
       " '__lt__',\n",
       " '__module__',\n",
       " '__ne__',\n",
       " '__new__',\n",
       " '__reduce__',\n",
       " '__reduce_ex__',\n",
       " '__repr__',\n",
       " '__setattr__',\n",
       " '__sizeof__',\n",
       " '__str__',\n",
       " '__subclasshook__',\n",
       " '__weakref__']"
      ]
     },
     "execution_count": 8,
     "metadata": {},
     "output_type": "execute_result"
    }
   ],
   "source": [
    "dir(pessoa)"
   ]
  },
  {
   "cell_type": "code",
   "execution_count": 25,
   "metadata": {},
   "outputs": [],
   "source": [
    "class Conta:\n",
    "    def __init__(self, saldo=0.0):\n",
    "        self._saldo = saldo\n",
    "    \n",
    "    @property\n",
    "    def saldo(self):\n",
    "        return self._saldo\n",
    "    \n",
    "    @saldo.setter\n",
    "    def saldo(self, saldo):\n",
    "        if (saldo < 0):\n",
    "            print('saldo não pode ser negativo')\n",
    "        else:\n",
    "            self._saldo = saldo\n"
   ]
  },
  {
   "cell_type": "code",
   "execution_count": 26,
   "metadata": {},
   "outputs": [],
   "source": [
    "conta1 = Conta(10)"
   ]
  },
  {
   "cell_type": "code",
   "execution_count": 27,
   "metadata": {},
   "outputs": [
    {
     "data": {
      "text/plain": [
       "10"
      ]
     },
     "execution_count": 27,
     "metadata": {},
     "output_type": "execute_result"
    }
   ],
   "source": [
    "conta1.saldo"
   ]
  },
  {
   "cell_type": "code",
   "execution_count": 28,
   "metadata": {},
   "outputs": [
    {
     "name": "stdout",
     "output_type": "stream",
     "text": [
      "saldo não pode ser negativo\n"
     ]
    }
   ],
   "source": [
    "conta1.saldo = -1"
   ]
  },
  {
   "cell_type": "code",
   "execution_count": null,
   "metadata": {},
   "outputs": [],
   "source": []
  }
 ],
 "metadata": {
  "kernelspec": {
   "display_name": "Python 3",
   "language": "python",
   "name": "python3"
  },
  "language_info": {
   "codemirror_mode": {
    "name": "ipython",
    "version": 3
   },
   "file_extension": ".py",
   "mimetype": "text/x-python",
   "name": "python",
   "nbconvert_exporter": "python",
   "pygments_lexer": "ipython3",
   "version": "3.7.3"
  }
 },
 "nbformat": 4,
 "nbformat_minor": 2
}
